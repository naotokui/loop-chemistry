{
 "metadata": {
  "language_info": {
   "codemirror_mode": {
    "name": "ipython",
    "version": 3
   },
   "file_extension": ".py",
   "mimetype": "text/x-python",
   "name": "python",
   "nbconvert_exporter": "python",
   "pygments_lexer": "ipython3",
   "version": "3.7.10"
  },
  "orig_nbformat": 2,
  "kernelspec": {
   "name": "python3710jvsc74a57bd00b5ceadf8b5e7e6d56519e0e5d815b6366e218e2ef3992b7acaa23d0ea28f265",
   "display_name": "Python 3.7.10 64-bit ('loopcomb': conda)"
  }
 },
 "nbformat": 4,
 "nbformat_minor": 2,
 "cells": [
  {
   "cell_type": "code",
   "execution_count": 1,
   "metadata": {},
   "outputs": [],
   "source": [
    "import os\n",
    "os.environ['CUDA_VISIBLE_DEVICES']='2'\n"
   ]
  },
  {
   "cell_type": "code",
   "execution_count": 5,
   "metadata": {},
   "outputs": [
    {
     "output_type": "stream",
     "name": "stdout",
     "text": [
      "[('drums.wav', 'bass.wav'), ('drums.wav', 'other.wav'), ('bass.wav', 'other.wav')]\n"
     ]
    }
   ],
   "source": [
    "import torchaudio\n",
    "from pathlib import Path\n",
    "import itertools\n",
    "\n",
    "SAMPLE_RATE = 44100\n",
    "\n",
    "TYPES_TRACK = [\"drums.wav\", \"bass.wav\", \"other.wav\"]\n",
    "COMB_TRACK = list(itertools.combinations(TYPES_TRACK, 2))\n",
    "print(COMB_TRACK)"
   ]
  },
  {
   "cell_type": "code",
   "execution_count": 47,
   "metadata": {},
   "outputs": [
    {
     "output_type": "stream",
     "name": "stdout",
     "text": [
      "dataset/youtube-5m-loops-valid/DRELLER - Control (Official Video)_2 dataset/youtube-5m-loops-valid/Dua Lipa - Blow Your Mind (Mwah) (Official Video)_3\n"
     ]
    }
   ],
   "source": [
    "dirs = Path(dataset_path).glob(\"*\")\n",
    "d1,d2 = random.choices(list(dirs), k=2)\n",
    "print(d1, d2)"
   ]
  },
  {
   "cell_type": "code",
   "execution_count": 78,
   "metadata": {},
   "outputs": [],
   "source": [
    "import torchaudio\n",
    "import torchvision\n",
    "from torch.utils.data import Dataset\n",
    "from pathlib import Path\n",
    "import numpy as np \n",
    "import functools\n",
    "import random\n",
    "\n",
    "class LoopComb(Dataset):\n",
    "    def __init__(self, path):\n",
    "        dirs = Path(path).glob(\"*\")\n",
    "\n",
    "        # positive pairs\n",
    "        self.positives = [(os.path.join(d, t1), os.path.join(d, t2)) for t1, t2 in COMB_TRACK for d in dirs]\n",
    "        self.positives = [ (t1, t2) for t1, t2 in self.positives if (os.path.exists(t1) and os.path.exists(t2))]\n",
    "        print(\"positives #\", len(self.positives))\n",
    "\n",
    "        # random pairs\n",
    "        dirs = Path(path).glob(\"*\")\n",
    "        dirnames = list(dirs)\n",
    "        self.negatives = []\n",
    "        for _ in range(int(len(self.positives)/len(COMB_TRACK))):\n",
    "            d1, d2 = random.choices(dirnames, k=2)\n",
    "            self.negatives.extend( [(os.path.join(d1, t1), os.path.join(d2, t2)) for t1, t2 in COMB_TRACK])\n",
    "        self.negatives = [ (t1, t2) for t1, t2 in self.negatives if (os.path.exists(t1) and os.path.exists(t2))]\n",
    "        print(\"negatives #\", len(self.negatives))\n",
    "\n",
    "        self.items = self.positives.copy()\n",
    "        self.items.extend(self.negatives)\n",
    "\n",
    "        self.labels = [1] * len(self.positives)\n",
    "        self.labels.extend([0] * len(self.negatives))\n",
    "        assert len(self.items) == len(self.labels)\n",
    "\n",
    "        self.length = len(self.items)\n",
    "        print(\"all samples #\", len(self.items))\n",
    "        self.transforms = torchvision.transforms.Compose([torchaudio.transforms.Spectrogram()])#,torchaudio.transforms.AmplitudeToDB()])\n",
    "\n",
    "    @functools.lru_cache(maxsize=500) # least recently used cache - 一番古く使われたものから消していく\n",
    "    def __getitem__(self, index):\n",
    "        (filepath1, filepath2), label = self.items[index], self.labels[index]\n",
    "        tensor1 = self.convert_to_tensor(filepath1)\n",
    "        tensor2 = self.convert_to_tensor(filepath2)\n",
    "        return (tensor1, tensor2), label\n",
    "\n",
    "    def __len__(self):\n",
    "        return self.length\n",
    "\n",
    "    def convert_to_tensor(self,filepath):\n",
    "        audio_tensor, sr = torchaudio.load(filepath)\n",
    "        audio_tensor = torchaudio.transforms.Resample(orig_freq=sr, new_freq=SAMPLE_RATE)(audio_tensor)\n",
    "        return self.transforms(audio_tensor)"
   ]
  },
  {
   "cell_type": "code",
   "execution_count": 79,
   "metadata": {},
   "outputs": [
    {
     "output_type": "stream",
     "name": "stdout",
     "text": [
      "positives # 7169\n",
      "negatives # 7167\n",
      "all samples # 14336\n"
     ]
    }
   ],
   "source": [
    "dataset_path = './dataset/youtube-5m-loops-valid'\n",
    "dataset = LoopComb(dataset_path)"
   ]
  },
  {
   "cell_type": "code",
   "execution_count": 80,
   "metadata": {},
   "outputs": [
    {
     "output_type": "execute_result",
     "data": {
      "text/plain": [
       "((tensor([[[2.1586e+00, 2.7074e-01, 1.7595e+00,  ..., 2.8635e-04,\n",
       "            7.6017e-02, 1.8681e-01],\n",
       "           [2.3474e+00, 3.6333e+00, 2.9481e+01,  ..., 4.1482e-02,\n",
       "            3.5880e-02, 2.1071e-01],\n",
       "           [4.8347e+00, 1.4895e+01, 1.0551e+02,  ..., 1.0192e-02,\n",
       "            1.5693e-02, 7.0059e-02],\n",
       "           ...,\n",
       "           [8.8535e-10, 1.2337e-09, 3.0354e-08,  ..., 2.9494e-08,\n",
       "            1.1952e-08, 1.1288e-08],\n",
       "           [9.3206e-09, 1.7663e-09, 8.0608e-09,  ..., 7.3874e-08,\n",
       "            5.3166e-09, 3.5547e-11],\n",
       "           [2.7417e-08, 9.7663e-09, 3.6673e-09,  ..., 1.0210e-07,\n",
       "            4.4345e-08, 2.0200e-08]],\n",
       "  \n",
       "          [[2.1080e+00, 2.6136e-01, 1.7178e+00,  ..., 3.1621e-04,\n",
       "            7.7411e-02, 1.8923e-01],\n",
       "           [2.3188e+00, 3.6125e+00, 2.9530e+01,  ..., 4.2025e-02,\n",
       "            3.6707e-02, 2.1256e-01],\n",
       "           [4.8907e+00, 1.5020e+01, 1.0565e+02,  ..., 1.0280e-02,\n",
       "            1.5373e-02, 7.0507e-02],\n",
       "           ...,\n",
       "           [2.9341e-09, 1.2493e-09, 4.3855e-10,  ..., 1.9914e-09,\n",
       "            1.6804e-09, 1.3867e-08],\n",
       "           [2.3778e-10, 7.2486e-10, 8.3699e-09,  ..., 6.3809e-09,\n",
       "            6.1741e-10, 7.7119e-08],\n",
       "           [7.8146e-10, 1.5429e-09, 2.7556e-08,  ..., 4.5311e-10,\n",
       "            6.7458e-10, 1.1269e-07]]]),\n",
       "  tensor([[[1.2243e+00, 1.2921e+00, 1.4499e-01,  ..., 5.6551e-03,\n",
       "            2.0936e+01, 2.7348e-01],\n",
       "           [3.8231e-01, 3.9643e+00, 4.8211e+00,  ..., 3.2561e+00,\n",
       "            8.4902e+00, 1.6013e+00],\n",
       "           [6.7086e+00, 1.8236e+00, 6.4920e+00,  ..., 5.1410e-01,\n",
       "            5.6089e-01, 3.3465e+00],\n",
       "           ...,\n",
       "           [4.7087e-14, 3.6019e-09, 1.4481e-08,  ..., 5.7112e-09,\n",
       "            5.7698e-09, 1.2490e-08],\n",
       "           [2.7370e-12, 3.7139e-08, 1.1592e-08,  ..., 5.5618e-12,\n",
       "            8.9522e-09, 9.8306e-09],\n",
       "           [5.0227e-10, 7.6951e-08, 1.8631e-08,  ..., 8.3499e-09,\n",
       "            2.8897e-08, 2.9878e-12]],\n",
       "  \n",
       "          [[1.1762e+00, 1.2651e+00, 1.5253e-01,  ..., 5.2876e-03,\n",
       "            2.0874e+01, 2.5650e-01],\n",
       "           [4.1066e-01, 3.9230e+00, 4.8004e+00,  ..., 3.2676e+00,\n",
       "            8.4659e+00, 1.6301e+00],\n",
       "           [6.8196e+00, 1.8344e+00, 6.5324e+00,  ..., 5.1818e-01,\n",
       "            5.6132e-01, 3.3599e+00],\n",
       "           ...,\n",
       "           [1.9682e-08, 9.5194e-09, 8.3514e-09,  ..., 2.1206e-09,\n",
       "            7.1276e-09, 9.1553e-11],\n",
       "           [9.6984e-10, 1.9972e-09, 1.7622e-08,  ..., 7.4247e-09,\n",
       "            1.8318e-09, 1.3695e-09],\n",
       "           [1.0584e-08, 2.8073e-08, 3.7100e-08,  ..., 4.9374e-09,\n",
       "            6.6486e-09, 1.4575e-09]]])),\n",
       " 1)"
      ]
     },
     "metadata": {},
     "execution_count": 80
    }
   ],
   "source": [
    "dataset[0]"
   ]
  },
  {
   "cell_type": "code",
   "execution_count": null,
   "metadata": {},
   "outputs": [],
   "source": []
  }
 ]
}