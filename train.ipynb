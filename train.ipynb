{
 "cells": [
  {
   "cell_type": "markdown",
   "source": [
    "# Loop Combiner \n",
    "\n",
    "An unofficial impelmentation of:\n",
    "Chen, B.-Y., Smith, J. B. L. and Yang, Y.-H. (2020) ‘Neural Loop Combiner: Neural Network Models for Assessing the Compatibility of Loops’. \n",
    "\n",
    "# Settings"
   ],
   "metadata": {}
  },
  {
   "cell_type": "code",
   "execution_count": 1,
   "source": [
    "import torchaudio\n",
    "from pathlib import Path\n",
    "import itertools\n",
    "from matplotlib import pyplot as plt\n",
    "import os\n",
    "\n",
    "os.environ['CUDA_VISIBLE_DEVICES']='0' # personal use\n",
    "\n",
    "# CONSTANTS\n",
    "SAMPLE_RATE = 22050\n",
    "\n",
    "# Possible combinations of extracted tracks. \n",
    "TYPES_TRACK = [\"drums.wav\", \"bass.wav\", \"other.wav\"]\n",
    "COMB_TRACK = list(itertools.combinations(TYPES_TRACK, 2))\n",
    "print(COMB_TRACK)"
   ],
   "outputs": [
    {
     "output_type": "stream",
     "name": "stdout",
     "text": [
      "[('drums.wav', 'bass.wav'), ('drums.wav', 'other.wav'), ('bass.wav', 'other.wav')]\n"
     ]
    }
   ],
   "metadata": {}
  },
  {
   "cell_type": "markdown",
   "source": [
    "# Dataset"
   ],
   "metadata": {}
  },
  {
   "cell_type": "code",
   "execution_count": 3,
   "source": [
    "import torchaudio\n",
    "import torchvision\n",
    "from torch.utils.data import Dataset\n",
    "from pathlib import Path\n",
    "import numpy as np \n",
    "import functools\n",
    "import random\n",
    "import torch\n",
    "from torch.utils.data import DataLoader\n",
    "\n",
    "class LoopComb(Dataset):\n",
    "    def __init__(self, path, size):\n",
    "        dirs = list(Path(path).glob(\"*\"))[:size]\n",
    "\n",
    "        # positive pairs\n",
    "        self.positives = [(os.path.join(d, t1), os.path.join(d, t2)) for d in dirs for t1, t2 in COMB_TRACK]\n",
    "        self.positives = [ (t1, t2) for t1, t2 in self.positives if (os.path.exists(t1) and os.path.exists(t2))]\n",
    "        print(\"positives #\", len(self.positives))\n",
    "\n",
    "        # random pairs\n",
    "#        dirs = Path(path).glob(\"*\")\n",
    "        dirnames = list(dirs)\n",
    "        self.negatives = []\n",
    "        for _ in range(int(len(self.positives)/len(COMB_TRACK))):\n",
    "            d1, d2 = random.choices(dirnames, k=2)\n",
    "            self.negatives.extend( [(os.path.join(d1, t1), os.path.join(d2, t2)) for t1, t2 in COMB_TRACK])\n",
    "        self.negatives = [ (t1, t2) for t1, t2 in self.negatives if (os.path.exists(t1) and os.path.exists(t2))]\n",
    "        print(\"negatives #\", len(self.negatives))\n",
    "\n",
    "        self.items = self.positives.copy()\n",
    "        self.items.extend(self.negatives)\n",
    "\n",
    "        # labels\n",
    "        self.labels = [1] * len(self.positives)\n",
    "        self.labels.extend([0] * len(self.negatives))\n",
    "        assert len(self.items) == len(self.labels)\n",
    "        self.labels = torch.FloatTensor(self.labels) # convert labels to float tensor for the backpropagation. \n",
    "\n",
    "        self.length = len(self.items)\n",
    "        print(\"all samples #\", len(self.items))\n",
    "        self.transforms = torchvision.transforms.Compose([torchaudio.transforms.MelSpectrogram(sample_rate = SAMPLE_RATE, n_fft=2048, hop_length=512, n_mels=128, normalized=False),\n",
    "                    torchaudio.transforms.AmplitudeToDB(top_db=80.)])\n",
    "\n",
    "    @functools.lru_cache(maxsize=50000) # least recently used cache - 一番古く使われたものから消していく\n",
    "    def __getitem__(self, index):\n",
    "        (filepath1, filepath2), label = self.items[index], self.labels[index]\n",
    "        tensor1 = self.convert_to_tensor(filepath1)\n",
    "        tensor2 = self.convert_to_tensor(filepath2)\n",
    "        return (tensor1, tensor2), label\n",
    "\n",
    "    def __len__(self):\n",
    "        return self.length\n",
    "\n",
    "    def convert_to_tensor(self,filepath):\n",
    "        audio_tensor, sr = torchaudio.load(filepath)\n",
    "        audio_tensor = audio_tensor.mean(axis=0).unsqueeze(0)\n",
    "        audio_tensor = torchaudio.transforms.Resample(orig_freq=sr, new_freq=SAMPLE_RATE)(audio_tensor)\n",
    "        return self.transforms(audio_tensor)"
   ],
   "outputs": [],
   "metadata": {}
  },
  {
   "cell_type": "code",
   "execution_count": 4,
   "source": [
    "# datasets and dataloaders\n",
    "train_path = './dataset/youtube-5m-loops-valid/train'\n",
    "val_path = './dataset/youtube-5m-loops-valid/val'\n",
    "trainSet = LoopComb(train_path, -1)\n",
    "valSet = LoopComb(val_path,-1)\n",
    "\n",
    "trainLoader = DataLoader(trainSet, batch_size=32, shuffle=True, num_workers=4)\n",
    "valLoader = DataLoader(valSet, batch_size=32, shuffle=True, num_workers=4)"
   ],
   "outputs": [
    {
     "output_type": "stream",
     "name": "stdout",
     "text": [
      "positives # 19785\n",
      "negatives # 19779\n",
      "all samples # 39564\n",
      "positives # 1716\n",
      "negatives # 1716\n",
      "all samples # 3432\n"
     ]
    }
   ],
   "metadata": {}
  },
  {
   "cell_type": "code",
   "execution_count": 5,
   "source": [
    "# Sample data\n",
    "(t1, t2), label = trainSet[random.randint(0, len(trainSet))]\n",
    "print(t1.shape, label)\n",
    "\n",
    "from librosa import display\n",
    "plt.figure()\n",
    "display.specshow(t1.detach().numpy()[0])\n",
    "print(t1.max(), t1.min(), t1.mean(), t1.max()-t1.min())\n",
    "plt.colorbar()"
   ],
   "outputs": [
    {
     "output_type": "stream",
     "name": "stdout",
     "text": [
      "torch.Size([1, 128, 173]) tensor(0.)\n",
      "tensor(34.9144) tensor(-45.0856) tensor(-38.6487) tensor(80.)\n"
     ]
    },
    {
     "output_type": "execute_result",
     "data": {
      "text/plain": [
       "<matplotlib.colorbar.Colorbar at 0x7f482cc32d10>"
      ]
     },
     "metadata": {},
     "execution_count": 5
    },
    {
     "output_type": "display_data",
     "data": {
      "text/plain": [
       "<Figure size 432x288 with 2 Axes>"
      ],
      "image/png": "[encoded data removed]"
     },
     "metadata": {
      "needs_background": "light"
     }
    }
   ],
   "metadata": {}
  },
  {
   "cell_type": "markdown",
   "source": [
    "# Model"
   ],
   "metadata": {}
  },
  {
   "cell_type": "markdown",
   "source": [
    "## SiameseNet + Contrastive Loss"
   ],
   "metadata": {}
  },
  {
   "cell_type": "code",
   "execution_count": 6,
   "source": [
    "import  torch\n",
    "import  torch.nn    as  nn\n",
    "import  torch.nn.functional as F\n",
    "\n",
    "# GPU Settings\n",
    "if torch.cuda.is_available():\n",
    "    print(\"Using GPU\")\n",
    "    device = torch.device(\"cuda\") \n",
    "else:\n",
    "    print(\"Using CPU\")\n",
    "    device = torch.device(\"cpu\")\n",
    "\n",
    "class Siamese(nn.Module):\n",
    "\n",
    "    def __init__(self):\n",
    "        super(Siamese, self).__init__()\n",
    "        dropout_rate = 0.1\n",
    "\n",
    "        # Based on the model architecture described in the original paper\n",
    "        # Chen, B.-Y., Smith, J. B. L. and Yang, Y.-H. (2020) ‘Neural Loop Combiner: Neural Network Models for Assessing the Compatibility of Loops’. \n",
    "        self.conv = nn.Sequential(\n",
    "            nn.Conv2d(1, 32, 3),  # 64@96*96\n",
    "            nn.ReLU(),\n",
    "            # nn.Conv2d(32, 32, 3),  # 64@96*96\n",
    "            # nn.ReLU(),\n",
    "            nn.MaxPool2d(3),  # 64@48*48\n",
    "            nn.Conv2d(32, 16, 3),\n",
    "            nn.ReLU(),    # 128@42*42\n",
    "            nn.MaxPool2d(3),   # 128@21*21\n",
    "#            nn.Conv2d(32, 4, 4),\n",
    "#            nn.ReLU(), # 128@18*18\n",
    "#            nn.MaxPool2d(2), # 128@9*9\n",
    "#            nn.Conv2d(128, 256, 4),\n",
    "#            nn.ReLU(),   # 256@6*6\n",
    "        )\n",
    "        self.fc = nn.Sequential(\n",
    "            nn.Sequential(nn.Linear(3744, 1024), nn.ReLU()),\n",
    "            nn.Sequential(nn.Linear(1024, 256), nn.ReLU()),\n",
    "            nn.Sequential(nn.Linear(256, 16), nn.ReLU())\n",
    "        )\n",
    "        #self.linear = \n",
    "        # self.out = nn.Linear(256, 1)\n",
    "        # self.sigmoid = nn.Sigmoid()\n",
    "        \n",
    "    def forward_one(self, x):\n",
    "        x = self.conv(x)\n",
    "        x = x.view(x.size()[0], -1)\n",
    "        x = self.fc(x)\n",
    "        return x\n",
    "\n",
    "    def forward(self, x1, x2):\n",
    "        out1 = self.forward_one(x1)\n",
    "        out2 = self.forward_one(x2)\n",
    "        return out1, out2"
   ],
   "outputs": [
    {
     "output_type": "stream",
     "name": "stdout",
     "text": [
      "Using GPU\n"
     ]
    }
   ],
   "metadata": {}
  },
  {
   "cell_type": "code",
   "execution_count": 7,
   "source": [
    "# Based on https://github.com/adambielski/siamese-triplet/blob/master/losses.py\n",
    "class ContrastiveLoss(nn.Module):\n",
    "    \"\"\"\n",
    "    Contrastive loss\n",
    "    Takes embeddings of two samples and a target label == 1 if samples are from the same class and label == 0 otherwise\n",
    "    \"\"\"\n",
    "\n",
    "    def __init__(self, margin):\n",
    "        super(ContrastiveLoss, self).__init__()\n",
    "        self.margin = margin\n",
    "        self.eps = 1e-9\n",
    "\n",
    "    def forward(self, output1, output2, target, size_average=True):\n",
    "        distances = (output2 - output1).pow(2).sum(1)  # squared distances\n",
    "        losses = 0.5 * (target.float() * distances +\n",
    "                        (1 + -1 * target).float() * F.relu(self.margin - (distances + self.eps).sqrt()).pow(2))\n",
    "        return losses.mean() if size_average else losses.sum()\n",
    "\n",
    "    def forward_accuracy(self, output1, output2, target):\n",
    "        distances = (output2 - output1).pow(2).sum(1)  # squared distances\n",
    "        far_enough = (self.margin < (distances + self.eps))\n",
    "        accuracy = torch.count_nonzero(torch.eq(far_enough, target.squeeze()))/target.nelement()\n",
    "        return accuracy\n",
    "\n",
    "\n"
   ],
   "outputs": [],
   "metadata": {}
  },
  {
   "cell_type": "code",
   "execution_count": 8,
   "source": [
    "# Model Initialization\n",
    "\n",
    "net = Siamese()\n",
    "#print(net)\n",
    "\n",
    "margin = 50.0\n",
    "loss_fn = ContrastiveLoss(margin)\n",
    "net.to(device)"
   ],
   "outputs": [
    {
     "output_type": "execute_result",
     "data": {
      "text/plain": [
       "Siamese(\n",
       "  (conv): Sequential(\n",
       "    (0): Conv2d(1, 32, kernel_size=(3, 3), stride=(1, 1))\n",
       "    (1): ReLU()\n",
       "    (2): MaxPool2d(kernel_size=3, stride=3, padding=0, dilation=1, ceil_mode=False)\n",
       "    (3): Conv2d(32, 16, kernel_size=(3, 3), stride=(1, 1))\n",
       "    (4): ReLU()\n",
       "    (5): MaxPool2d(kernel_size=3, stride=3, padding=0, dilation=1, ceil_mode=False)\n",
       "  )\n",
       "  (fc): Sequential(\n",
       "    (0): Sequential(\n",
       "      (0): Linear(in_features=3744, out_features=1024, bias=True)\n",
       "      (1): ReLU()\n",
       "    )\n",
       "    (1): Sequential(\n",
       "      (0): Linear(in_features=1024, out_features=256, bias=True)\n",
       "      (1): ReLU()\n",
       "    )\n",
       "    (2): Sequential(\n",
       "      (0): Linear(in_features=256, out_features=16, bias=True)\n",
       "      (1): ReLU()\n",
       "    )\n",
       "  )\n",
       ")"
      ]
     },
     "metadata": {},
     "execution_count": 8
    }
   ],
   "metadata": {
    "tags": []
   }
  },
  {
   "cell_type": "code",
   "execution_count": 9,
   "source": [
    "for batch in tqdm(valLoader):\n",
    "\n",
    "    (input1, input2), labels = batch\n",
    "    input1 = input1.to(device)\n",
    "    input2 = input2.to(device)\n",
    "\n",
    "    labels = labels.unsqueeze(1)\n",
    "    labels = labels.to(device)\n",
    "\n",
    "    output1, output2 = net(input1, input2)\n",
    "\n",
    "    loss = loss_fn(output1, output2, labels)\n",
    "    accuracy = loss_fn.forward_accuracy(output1, output2, labels)\n",
    "    print(accuracy)\n",
    "    break\n"
   ],
   "outputs": [
    {
     "output_type": "error",
     "ename": "NameError",
     "evalue": "name 'tqdm' is not defined",
     "traceback": [
      "\u001b[0;31m---------------------------------------------------------------------------\u001b[0m",
      "\u001b[0;31mNameError\u001b[0m                                 Traceback (most recent call last)",
      "\u001b[0;32m/tmp/ipykernel_23857/139134463.py\u001b[0m in \u001b[0;36m<module>\u001b[0;34m\u001b[0m\n\u001b[0;32m----> 1\u001b[0;31m \u001b[0;32mfor\u001b[0m \u001b[0mbatch\u001b[0m \u001b[0;32min\u001b[0m \u001b[0mtqdm\u001b[0m\u001b[0;34m(\u001b[0m\u001b[0mvalLoader\u001b[0m\u001b[0;34m)\u001b[0m\u001b[0;34m:\u001b[0m\u001b[0;34m\u001b[0m\u001b[0;34m\u001b[0m\u001b[0m\n\u001b[0m\u001b[1;32m      2\u001b[0m \u001b[0;34m\u001b[0m\u001b[0m\n\u001b[1;32m      3\u001b[0m     \u001b[0;34m(\u001b[0m\u001b[0minput1\u001b[0m\u001b[0;34m,\u001b[0m \u001b[0minput2\u001b[0m\u001b[0;34m)\u001b[0m\u001b[0;34m,\u001b[0m \u001b[0mlabels\u001b[0m \u001b[0;34m=\u001b[0m \u001b[0mbatch\u001b[0m\u001b[0;34m\u001b[0m\u001b[0;34m\u001b[0m\u001b[0m\n\u001b[1;32m      4\u001b[0m     \u001b[0minput1\u001b[0m \u001b[0;34m=\u001b[0m \u001b[0minput1\u001b[0m\u001b[0;34m.\u001b[0m\u001b[0mto\u001b[0m\u001b[0;34m(\u001b[0m\u001b[0mdevice\u001b[0m\u001b[0;34m)\u001b[0m\u001b[0;34m\u001b[0m\u001b[0;34m\u001b[0m\u001b[0m\n\u001b[1;32m      5\u001b[0m     \u001b[0minput2\u001b[0m \u001b[0;34m=\u001b[0m \u001b[0minput2\u001b[0m\u001b[0;34m.\u001b[0m\u001b[0mto\u001b[0m\u001b[0;34m(\u001b[0m\u001b[0mdevice\u001b[0m\u001b[0;34m)\u001b[0m\u001b[0;34m\u001b[0m\u001b[0;34m\u001b[0m\u001b[0m\n",
      "\u001b[0;31mNameError\u001b[0m: name 'tqdm' is not defined"
     ]
    }
   ],
   "metadata": {}
  },
  {
   "cell_type": "code",
   "execution_count": 10,
   "source": [
    "# model summary\n",
    "from torchsummary import summary\n",
    "\n",
    "(t1, t2), label = trainSet[0]\n",
    "print(t1.shape)\n",
    "summary(net.cuda(), [(1, 128, 173),(1, 128, 173)])"
   ],
   "outputs": [
    {
     "output_type": "stream",
     "name": "stdout",
     "text": [
      "torch.Size([1, 128, 173])\n",
      "----------------------------------------------------------------\n",
      "        Layer (type)               Output Shape         Param #\n",
      "================================================================\n",
      "            Conv2d-1         [-1, 32, 126, 171]             320\n",
      "              ReLU-2         [-1, 32, 126, 171]               0\n",
      "         MaxPool2d-3           [-1, 32, 42, 57]               0\n",
      "            Conv2d-4           [-1, 16, 40, 55]           4,624\n",
      "              ReLU-5           [-1, 16, 40, 55]               0\n",
      "         MaxPool2d-6           [-1, 16, 13, 18]               0\n",
      "            Linear-7                 [-1, 1024]       3,834,880\n",
      "              ReLU-8                 [-1, 1024]               0\n",
      "            Linear-9                  [-1, 256]         262,400\n",
      "             ReLU-10                  [-1, 256]               0\n",
      "           Linear-11                   [-1, 16]           4,112\n",
      "             ReLU-12                   [-1, 16]               0\n",
      "           Conv2d-13         [-1, 32, 126, 171]             320\n",
      "             ReLU-14         [-1, 32, 126, 171]               0\n",
      "        MaxPool2d-15           [-1, 32, 42, 57]               0\n",
      "           Conv2d-16           [-1, 16, 40, 55]           4,624\n",
      "             ReLU-17           [-1, 16, 40, 55]               0\n",
      "        MaxPool2d-18           [-1, 16, 13, 18]               0\n",
      "           Linear-19                 [-1, 1024]       3,834,880\n",
      "             ReLU-20                 [-1, 1024]               0\n",
      "           Linear-21                  [-1, 256]         262,400\n",
      "             ReLU-22                  [-1, 256]               0\n",
      "           Linear-23                   [-1, 16]           4,112\n",
      "             ReLU-24                   [-1, 16]               0\n",
      "================================================================\n",
      "Total params: 8,212,672\n",
      "Trainable params: 8,212,672\n",
      "Non-trainable params: 0\n",
      "----------------------------------------------------------------\n",
      "Input size (MB): 1870.56\n",
      "Forward/backward pass size (MB): 23.38\n",
      "Params size (MB): 31.33\n",
      "Estimated Total Size (MB): 1925.27\n",
      "----------------------------------------------------------------\n"
     ]
    },
    {
     "output_type": "stream",
     "name": "stderr",
     "text": [
      "/home/nao/anaconda3/envs/loopcomb/lib/python3.7/site-packages/torch/nn/functional.py:718: UserWarning: Named tensors and all their associated APIs are an experimental feature and subject to change. Please do not use them for anything important until they are released as stable. (Triggered internally at  /pytorch/c10/core/TensorImpl.h:1156.)\n",
      "  return torch.max_pool2d(input, kernel_size, stride, padding, dilation, ceil_mode)\n"
     ]
    }
   ],
   "metadata": {}
  },
  {
   "cell_type": "markdown",
   "source": [
    "# Training"
   ],
   "metadata": {}
  },
  {
   "cell_type": "code",
   "execution_count": 11,
   "source": [
    "from torch.nn import Module\n",
    "import torch.nn as nn\n",
    "import torch.nn.functional as F\n",
    "from tqdm import tqdm\n",
    "\n",
    "# Training loop\n",
    "def train(model, optimizer, loss_fn, train_loader, val_loader, epochs=20, device=\"cpu\"):\n",
    "    best_val_loss = 10000.0\n",
    "\n",
    "    for epoch in range(epochs):\n",
    "        print(\"Epoch: \", epoch)\n",
    "        training_loss = 0.0\n",
    "        valid_loss, valid_acc = 0.0, 0.0\n",
    "\n",
    "        model.train() # 学習モードにセット　DropoutLayerなどが有効に\n",
    "\n",
    "        for batch in tqdm(train_loader):\n",
    "            optimizer.zero_grad() # 一旦リセット\n",
    "\n",
    "            (input1, input2), labels = batch\n",
    "            input1 = input1.to(device)\n",
    "            input2 = input2.to(device)\n",
    "\n",
    "            labels = labels.unsqueeze(1)\n",
    "            labels = labels.to(device)\n",
    "\n",
    "            output1, output2 = model(input1, input2)\n",
    "\n",
    "            # print(labels.shape, output.shape)\n",
    "            # print(labels, output)   \n",
    "            loss = loss_fn(output1, output2, labels)\n",
    "            loss.backward() # back propagation - gradientの計算\n",
    "\n",
    "            optimizer.step()\n",
    "            training_loss += loss.data.item()\n",
    "        training_loss /= len(train_loader) # average\n",
    "\n",
    "        model.eval() # 学習モードをオフ　DropoutLayerなどが無効に モデルのパラメータはアップデートされない\n",
    "        for batch in tqdm(val_loader):\n",
    "\n",
    "            (input1, input2), labels = batch\n",
    "            input1 = input1.to(device)\n",
    "            input2 = input2.to(device)\n",
    "\n",
    "            labels = labels.unsqueeze(1)\n",
    "            labels = labels.to(device)\n",
    "\n",
    "            output1, output2 = model(input1, input2)\n",
    "\n",
    "            loss = loss_fn(output1, output2, labels)\n",
    "            valid_loss += loss.data.item()\n",
    "\n",
    "            acc = loss_fn.forward_accuracy(output1, output2, labels)\n",
    "            valid_acc += acc.data.item()\n",
    "\n",
    "        valid_loss /= len(val_loader)\n",
    "        valid_acc /= len(val_loader)\n",
    "\n",
    "        print('Epoch: {}, Training Loss: {:.2f}, Validation Loss: {:.2f}, Accuracy = {:.2f}'\n",
    "            .format(epoch, training_loss, valid_loss, valid_acc))\n",
    "        if valid_loss < best_val_loss:\n",
    "            best_val_loss = valid_loss\n",
    "            torch.save(net.state_dict(), \"./tmp/model_const_epoch_%d_val_%.4f_acc_%.4f.pt\" % (epoch, valid_loss, valid_acc))\n",
    "            print(\"      saved in Epoch: {}\".format(epoch))"
   ],
   "outputs": [],
   "metadata": {}
  },
  {
   "cell_type": "code",
   "execution_count": 12,
   "source": [
    "net.train()\n",
    "\n",
    "optimizer = torch.optim.Adam(net.parameters(),lr = 0.001)\n",
    "optimizer.zero_grad()\n",
    "\n",
    "train(net, optimizer, loss_fn, trainLoader, valLoader, epochs=100, device=device)\n"
   ],
   "outputs": [
    {
     "output_type": "stream",
     "name": "stdout",
     "text": [
      "Epoch:  0\n"
     ]
    },
    {
     "output_type": "stream",
     "name": "stderr",
     "text": [
      " 12%|█▏        | 146/1237 [00:31<03:10,  5.73it/s]"
     ]
    }
   ],
   "metadata": {
    "tags": []
   }
  },
  {
   "cell_type": "markdown",
   "source": [
    "# Test"
   ],
   "metadata": {}
  },
  {
   "cell_type": "code",
   "execution_count": 50,
   "source": [
    "torch.save(net.state_dict(), './tmp/weigtht.pt')"
   ],
   "outputs": [],
   "metadata": {}
  },
  {
   "cell_type": "code",
   "execution_count": null,
   "source": [
    "import IPython.display\n",
    "IPython.display.Audio(\"sample.wav\")\n",
    "\n",
    "path1, path2 = random.choice(valSet.positives)\n",
    "\n",
    "\n"
   ],
   "outputs": [],
   "metadata": {}
  },
  {
   "cell_type": "code",
   "execution_count": null,
   "source": [
    "from torchsummary import summary\n",
    "\n",
    "(t1, t2), label = trainSet[0]\n",
    "\n",
    "print(t1.shape)\n",
    "\n",
    "summary(net.cuda(), [(1, 128, 173),(1, 128, 173)])\n",
    "\n",
    "#net.forward(t1, t2)\n",
    "#print(t1.mean(axis=0).shape)\n",
    "net.cuda().forward(t1.unsqueeze(0).cuda(), t2.unsqueeze(0).cuda())"
   ],
   "outputs": [
    {
     "output_type": "stream",
     "name": "stdout",
     "text": [
      "torch.Size([1, 128, 173])\n",
      "----------------------------------------------------------------\n",
      "        Layer (type)               Output Shape         Param #\n",
      "================================================================\n",
      "            Conv2d-1         [-1, 64, 126, 171]             640\n",
      "              ReLU-2         [-1, 64, 126, 171]               0\n",
      "            Conv2d-3          [-1, 4, 124, 169]           2,308\n",
      "              ReLU-4          [-1, 4, 124, 169]               0\n",
      "            Linear-5                 [-1, 1024]      85,836,800\n",
      "           Sigmoid-6                 [-1, 1024]               0\n",
      "            Linear-7                  [-1, 512]         524,800\n",
      "           Sigmoid-8                  [-1, 512]               0\n",
      "            Linear-9                  [-1, 256]         131,328\n",
      "          Sigmoid-10                  [-1, 256]               0\n",
      "           Conv2d-11         [-1, 64, 126, 171]             640\n",
      "             ReLU-12         [-1, 64, 126, 171]               0\n",
      "           Conv2d-13          [-1, 4, 124, 169]           2,308\n",
      "             ReLU-14          [-1, 4, 124, 169]               0\n",
      "           Linear-15                 [-1, 1024]      85,836,800\n",
      "          Sigmoid-16                 [-1, 1024]               0\n",
      "           Linear-17                  [-1, 512]         524,800\n",
      "          Sigmoid-18                  [-1, 512]               0\n",
      "           Linear-19                  [-1, 256]         131,328\n",
      "          Sigmoid-20                  [-1, 256]               0\n",
      "           Linear-21                    [-1, 1]             257\n",
      "================================================================\n",
      "Total params: 172,992,009\n",
      "Trainable params: 172,992,009\n",
      "Non-trainable params: 0\n",
      "----------------------------------------------------------------\n",
      "Input size (MB): 1870.56\n",
      "Forward/backward pass size (MB): 44.69\n",
      "Params size (MB): 659.91\n",
      "Estimated Total Size (MB): 2575.17\n",
      "----------------------------------------------------------------\n"
     ]
    },
    {
     "output_type": "execute_result",
     "data": {
      "text/plain": [
       "tensor([[-0.0040]], device='cuda:0', grad_fn=<AddmmBackward>)"
      ]
     },
     "metadata": {},
     "execution_count": 68
    }
   ],
   "metadata": {}
  },
  {
   "cell_type": "code",
   "execution_count": null,
   "source": [
    "#torch.cuda.empty_cache()"
   ],
   "outputs": [],
   "metadata": {}
  },
  {
   "cell_type": "code",
   "execution_count": null,
   "source": [],
   "outputs": [],
   "metadata": {}
  }
 ],
 "metadata": {
  "kernelspec": {
   "name": "python3",
   "display_name": "Python 3.7.10 64-bit ('loopcomb': conda)"
  },
  "language_info": {
   "codemirror_mode": {
    "name": "ipython",
    "version": 3
   },
   "file_extension": ".py",
   "mimetype": "text/x-python",
   "name": "python",
   "nbconvert_exporter": "python",
   "pygments_lexer": "ipython3",
   "version": "3.7.10"
  },
  "orig_nbformat": 2,
  "interpreter": {
   "hash": "0b5ceadf8b5e7e6d56519e0e5d815b6366e218e2ef3992b7acaa23d0ea28f265"
  }
 },
 "nbformat": 4,
 "nbformat_minor": 2
}