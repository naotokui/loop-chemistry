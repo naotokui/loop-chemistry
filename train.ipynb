{
<<<<<<< HEAD
 "cells": [
  {
   "cell_type": "markdown",
   "source": [
    "# Settings"
   ],
   "metadata": {}
  },
  {
   "cell_type": "code",
   "execution_count": 1,
=======
 "metadata": {
  "language_info": {
   "codemirror_mode": {
    "name": "ipython",
    "version": 3
   },
   "file_extension": ".py",
   "mimetype": "text/x-python",
   "name": "python",
   "nbconvert_exporter": "python",
   "pygments_lexer": "ipython3",
   "version": "3.7.10"
  },
  "orig_nbformat": 2,
  "kernelspec": {
   "name": "python3710jvsc74a57bd00b5ceadf8b5e7e6d56519e0e5d815b6366e218e2ef3992b7acaa23d0ea28f265",
   "display_name": "Python 3.7.10 64-bit ('loopcomb': conda)"
  }
 },
 "nbformat": 4,
 "nbformat_minor": 2,
 "cells": [
  {
   "cell_type": "code",
   "execution_count": 1,
   "metadata": {},
   "outputs": [],
   "source": [
    "import os\n",
    "os.environ['CUDA_VISIBLE_DEVICES']='2'\n"
   ]
  },
  {
   "cell_type": "code",
   "execution_count": 5,
   "metadata": {},
   "outputs": [
    {
     "output_type": "stream",
     "name": "stdout",
     "text": [
      "[('drums.wav', 'bass.wav'), ('drums.wav', 'other.wav'), ('bass.wav', 'other.wav')]\n"
     ]
    }
   ],
>>>>>>> origin/master
   "source": [
    "import torchaudio\n",
    "from pathlib import Path\n",
    "import itertools\n",
<<<<<<< HEAD
    "from matplotlib import pyplot as plt\n",
    "import os\n",
    "\n",
    "os.environ['CUDA_VISIBLE_DEVICES']='0,2' # personal use\n",
    "\n",
    "# CONSTANTS\n",
    "SAMPLE_RATE = 22050\n",
    "\n",
    "# Possible combinations of extracted tracks. \n",
    "TYPES_TRACK = [\"drums.wav\", \"bass.wav\", \"other.wav\"]\n",
    "COMB_TRACK = list(itertools.combinations(TYPES_TRACK, 2))\n",
    "print(COMB_TRACK)"
   ],
=======
    "\n",
    "SAMPLE_RATE = 44100\n",
    "\n",
    "TYPES_TRACK = [\"drums.wav\", \"bass.wav\", \"other.wav\"]\n",
    "COMB_TRACK = list(itertools.combinations(TYPES_TRACK, 2))\n",
    "print(COMB_TRACK)"
   ]
  },
  {
   "cell_type": "code",
   "execution_count": 47,
   "metadata": {},
>>>>>>> origin/master
   "outputs": [
    {
     "output_type": "stream",
     "name": "stdout",
     "text": [
<<<<<<< HEAD
      "[('drums.wav', 'bass.wav'), ('drums.wav', 'other.wav'), ('bass.wav', 'other.wav')]\n"
     ]
    }
   ],
   "metadata": {}
  },
  {
   "cell_type": "markdown",
   "source": [
    "# Dataset"
   ],
   "metadata": {}
  },
  {
   "cell_type": "code",
   "execution_count": 2,
=======
      "dataset/youtube-5m-loops-valid/DRELLER - Control (Official Video)_2 dataset/youtube-5m-loops-valid/Dua Lipa - Blow Your Mind (Mwah) (Official Video)_3\n"
     ]
    }
   ],
   "source": [
    "dirs = Path(dataset_path).glob(\"*\")\n",
    "d1,d2 = random.choices(list(dirs), k=2)\n",
    "print(d1, d2)"
   ]
  },
  {
   "cell_type": "code",
   "execution_count": 78,
   "metadata": {},
   "outputs": [],
>>>>>>> origin/master
   "source": [
    "import torchaudio\n",
    "import torchvision\n",
    "from torch.utils.data import Dataset\n",
    "from pathlib import Path\n",
    "import numpy as np \n",
    "import functools\n",
    "import random\n",
<<<<<<< HEAD
    "import torch\n",
    "from torch.utils.data import DataLoader\n",
    "\n",
    "class LoopComb(Dataset):\n",
    "    def __init__(self, path, size):\n",
    "        dirs = list(Path(path).glob(\"*\"))[:size]\n",
    "\n",
    "        # positive pairs\n",
    "        self.positives = [(os.path.join(d, t1), os.path.join(d, t2)) for d in dirs for t1, t2 in COMB_TRACK]\n",
=======
    "\n",
    "class LoopComb(Dataset):\n",
    "    def __init__(self, path):\n",
    "        dirs = Path(path).glob(\"*\")\n",
    "\n",
    "        # positive pairs\n",
    "        self.positives = [(os.path.join(d, t1), os.path.join(d, t2)) for t1, t2 in COMB_TRACK for d in dirs]\n",
>>>>>>> origin/master
    "        self.positives = [ (t1, t2) for t1, t2 in self.positives if (os.path.exists(t1) and os.path.exists(t2))]\n",
    "        print(\"positives #\", len(self.positives))\n",
    "\n",
    "        # random pairs\n",
<<<<<<< HEAD
    "#        dirs = Path(path).glob(\"*\")\n",
=======
    "        dirs = Path(path).glob(\"*\")\n",
>>>>>>> origin/master
    "        dirnames = list(dirs)\n",
    "        self.negatives = []\n",
    "        for _ in range(int(len(self.positives)/len(COMB_TRACK))):\n",
    "            d1, d2 = random.choices(dirnames, k=2)\n",
    "            self.negatives.extend( [(os.path.join(d1, t1), os.path.join(d2, t2)) for t1, t2 in COMB_TRACK])\n",
    "        self.negatives = [ (t1, t2) for t1, t2 in self.negatives if (os.path.exists(t1) and os.path.exists(t2))]\n",
    "        print(\"negatives #\", len(self.negatives))\n",
    "\n",
    "        self.items = self.positives.copy()\n",
    "        self.items.extend(self.negatives)\n",
    "\n",
<<<<<<< HEAD
    "        # labels\n",
    "        # We expect that the tracks from the same song sould be mapped closer to each other in the embedding space.\n",
    "        # That's why we assign 0 for positive samples (i.e., sampled from the same song), 1 for negative samples \n",
    "        self.labels = [0] * len(self.positives)\n",
    "        self.labels.extend([1] * len(self.negatives))\n",
    "        assert len(self.items) == len(self.labels)\n",
    "        self.labels = torch.FloatTensor(self.labels) # convert labels to float tensor for the backpropagation. \n",
    "\n",
    "        self.length = len(self.items)\n",
    "        print(\"all samples #\", len(self.items))\n",
    "        self.transforms = torchvision.transforms.Compose([torchaudio.transforms.MelSpectrogram(sample_rate = SAMPLE_RATE, n_fft=2048, hop_length=512, n_mels=128, normalized=False),\n",
    "                    torchaudio.transforms.AmplitudeToDB(top_db=80.)])\n",
    "\n",
    "    @functools.lru_cache(maxsize=50000) # least recently used cache - 一番古く使われたものから消していく\n",
=======
    "        self.labels = [1] * len(self.positives)\n",
    "        self.labels.extend([0] * len(self.negatives))\n",
    "        assert len(self.items) == len(self.labels)\n",
    "\n",
    "        self.length = len(self.items)\n",
    "        print(\"all samples #\", len(self.items))\n",
    "        self.transforms = torchvision.transforms.Compose([torchaudio.transforms.Spectrogram()])#,torchaudio.transforms.AmplitudeToDB()])\n",
    "\n",
    "    @functools.lru_cache(maxsize=500) # least recently used cache - 一番古く使われたものから消していく\n",
>>>>>>> origin/master
    "    def __getitem__(self, index):\n",
    "        (filepath1, filepath2), label = self.items[index], self.labels[index]\n",
    "        tensor1 = self.convert_to_tensor(filepath1)\n",
    "        tensor2 = self.convert_to_tensor(filepath2)\n",
    "        return (tensor1, tensor2), label\n",
    "\n",
    "    def __len__(self):\n",
    "        return self.length\n",
    "\n",
    "    def convert_to_tensor(self,filepath):\n",
    "        audio_tensor, sr = torchaudio.load(filepath)\n",
<<<<<<< HEAD
    "        audio_tensor = audio_tensor.mean(axis=0).unsqueeze(0)\n",
    "        audio_tensor = torchaudio.transforms.Resample(orig_freq=sr, new_freq=SAMPLE_RATE)(audio_tensor)\n",
    "        return self.transforms(audio_tensor)"
   ],
   "outputs": [],
   "metadata": {}
  },
  {
   "cell_type": "code",
   "execution_count": 3,
   "source": [
    "# datasets and dataloaders\n",
    "train_path = './dataset/youtube-5m-loops-valid/train'\n",
    "val_path = './dataset/youtube-5m-loops-valid/val'\n",
    "trainSet = LoopComb(train_path, -1)\n",
    "valSet = LoopComb(val_path,-1)\n",
    "\n",
    "trainLoader = DataLoader(trainSet, batch_size=32, shuffle=True, num_workers=4)\n",
    "valLoader = DataLoader(valSet, batch_size=32, shuffle=True, num_workers=4)"
   ],
   "outputs": [],
   "metadata": {}
  },
  {
   "cell_type": "code",
   "execution_count": null,
   "source": [
    "# Sample data\n",
    "(t1, t2), label = trainSet[random.randint(0, len(trainSet))]\n",
    "print(t1.shape, label)\n",
    "\n",
    "from librosa import display\n",
    "plt.figure()\n",
    "display.specshow(t1.detach().numpy()[0])\n",
    "print(t1.max(), t1.min(), t1.mean(), t1.max()-t1.min())\n",
    "plt.colorbar()"
   ],
   "outputs": [
    {
     "output_type": "stream",
     "name": "stdout",
     "text": [
      "30840\n",
      "torch.Size([1, 128, 173]) tensor(1.)\n",
      "tensor(38.2399) tensor(-41.7601) tensor(-17.2113) tensor(80.)\n"
     ]
    },
    {
     "output_type": "execute_result",
     "data": {
      "text/plain": [
       "<matplotlib.colorbar.Colorbar at 0x7f26deb21d50>"
      ]
     },
     "metadata": {},
     "execution_count": 5
    },
    {
     "output_type": "display_data",
     "data": {
      "text/plain": [
       "<Figure size 432x288 with 2 Axes>"
      ],
      "image/png": "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"
     },
     "metadata": {
      "needs_background": "light"
     }
    }
   ],
   "metadata": {}
  },
  {
   "cell_type": "markdown",
   "source": [
    "# Model"
   ],
   "metadata": {}
  },
  {
   "cell_type": "code",
   "execution_count": null,
   "source": [
    "import  torch\n",
    "import  torch.nn    as  nn\n",
    "import  torch.nn.functional as F\n",
    "\n",
    "# GPU Settings\n",
    "if torch.cuda.is_available():\n",
    "    print(\"Using GPU\")\n",
    "    device = torch.device(\"cuda\") \n",
    "else:\n",
    "    print(\"Using CPU\")\n",
    "    device = torch.device(\"cpu\")\n",
    "\n",
    "class Siamese(nn.Module):\n",
    "\n",
    "\n",
    "    def __init__(self):\n",
    "        super(Siamese, self).__init__()\n",
    "        dropout_rate = 0.1\n",
    "\n",
    "        self.conv = nn.Sequential(\n",
    "            nn.Conv2d(1, 16, 3),  # 64@96*96\n",
    "            nn.ReLU(),\n",
    "            # nn.Conv2d(32, 32, 3),  # 64@96*96\n",
    "            # nn.ReLU(),\n",
    "#            nn.MaxPool2d(4),  # 64@48*48\n",
    "            nn.Conv2d(16, 4, 3),\n",
    "            nn.ReLU(),    # 128@42*42\n",
    "#            nn.MaxPool2d(4),   # 128@21*21\n",
    "#            nn.Conv2d(32, 4, 4),\n",
    "#            nn.ReLU(), # 128@18*18\n",
    "#            nn.MaxPool2d(2), # 128@9*9\n",
    "#            nn.Conv2d(128, 256, 4),\n",
    "#            nn.ReLU(),   # 256@6*6\n",
    "        )\n",
    "        self.linear = nn.Sequential(nn.Linear(83824, 1024), nn.Dropout(p=dropout_rate), nn.ReLU())\n",
    "        self.linear2 = nn.Sequential(nn.Linear(1024, 256), nn.Dropout(p=dropout_rate), nn.ReLU())\n",
    "        self.out = nn.Linear(256, 1)\n",
    "        self.sigmoid = nn.Sigmoid()\n",
    "        \n",
    "    def forward_one(self, x):\n",
    "        x = self.conv(x)\n",
    "        x = x.view(x.size()[0], -1)\n",
    "        x = self.linear(x)\n",
    "        x = self.linear2(x)\n",
    "        return x\n",
    "\n",
    "    def forward(self, x1, x2):\n",
    "        out1 = self.forward_one(x1)\n",
    "        out2 = self.forward_one(x2)\n",
    "        dis = torch.abs(out1 - out2)\n",
    "        out = self.out(dis)\n",
    "        return self.sigmoid(out)\n",
    "        #return out"
   ],
   "outputs": [
    {
     "output_type": "stream",
     "name": "stdout",
     "text": [
      "Using GPU\n"
     ]
    }
   ],
   "metadata": {}
  },
  {
   "cell_type": "code",
   "execution_count": null,
   "source": [
    "# Model Initialization\n",
    "\n",
    "net = Siamese()\n",
    "print(net)\n",
    "\n",
    "loss_fn = torch.nn.BCEWithLogitsLoss(size_average=True)\n",
    "net.to(device)\n"
   ],
   "outputs": [
    {
     "output_type": "stream",
     "name": "stdout",
     "text": [
      "Siamese(\n",
      "  (conv): Sequential(\n",
      "    (0): Conv2d(1, 16, kernel_size=(3, 3), stride=(1, 1))\n",
      "    (1): ReLU()\n",
      "    (2): Conv2d(16, 4, kernel_size=(3, 3), stride=(1, 1))\n",
      "    (3): ReLU()\n",
      "  )\n",
      "  (linear): Sequential(\n",
      "    (0): Linear(in_features=83824, out_features=1024, bias=True)\n",
      "    (1): ReLU()\n",
      "  )\n",
      "  (linear2): Sequential(\n",
      "    (0): Linear(in_features=1024, out_features=256, bias=True)\n",
      "    (1): ReLU()\n",
      "  )\n",
      "  (out): Linear(in_features=256, out_features=1, bias=True)\n",
      "  (sigmoid): Sigmoid()\n",
      ")\n"
     ]
    },
    {
     "output_type": "execute_result",
     "data": {
      "text/plain": [
       "Siamese(\n",
       "  (conv): Sequential(\n",
       "    (0): Conv2d(1, 16, kernel_size=(3, 3), stride=(1, 1))\n",
       "    (1): ReLU()\n",
       "    (2): Conv2d(16, 4, kernel_size=(3, 3), stride=(1, 1))\n",
       "    (3): ReLU()\n",
       "  )\n",
       "  (linear): Sequential(\n",
       "    (0): Linear(in_features=83824, out_features=1024, bias=True)\n",
       "    (1): ReLU()\n",
       "  )\n",
       "  (linear2): Sequential(\n",
       "    (0): Linear(in_features=1024, out_features=256, bias=True)\n",
       "    (1): ReLU()\n",
       "  )\n",
       "  (out): Linear(in_features=256, out_features=1, bias=True)\n",
       "  (sigmoid): Sigmoid()\n",
       ")"
      ]
     },
     "metadata": {},
     "execution_count": 23
    }
   ],
   "metadata": {
    "tags": []
   }
  },
  {
   "cell_type": "code",
   "execution_count": null,
   "source": [
    "# model summary\n",
    "from torchsummary import summary\n",
    "\n",
    "(t1, t2), label = trainSet[0]\n",
    "print(t1.shape)\n",
    "summary(net.cuda(), [(1, 128, 173),(1, 128, 173)])\n",
    "net.cuda().forward(t1.unsqueeze(0).cuda(), t2.unsqueeze(0).cuda())"
   ],
=======
    "        audio_tensor = torchaudio.transforms.Resample(orig_freq=sr, new_freq=SAMPLE_RATE)(audio_tensor)\n",
    "        return self.transforms(audio_tensor)"
   ]
  },
  {
   "cell_type": "code",
   "execution_count": 79,
   "metadata": {},
>>>>>>> origin/master
   "outputs": [
    {
     "output_type": "stream",
     "name": "stdout",
     "text": [
<<<<<<< HEAD
      "torch.Size([1, 128, 173])\n",
      "----------------------------------------------------------------\n",
      "        Layer (type)               Output Shape         Param #\n",
      "================================================================\n",
      "            Conv2d-1         [-1, 16, 126, 171]             160\n",
      "              ReLU-2         [-1, 16, 126, 171]               0\n",
      "            Conv2d-3          [-1, 4, 124, 169]             580\n",
      "              ReLU-4          [-1, 4, 124, 169]               0\n",
      "            Linear-5                 [-1, 1024]      85,836,800\n",
      "              ReLU-6                 [-1, 1024]               0\n",
      "            Linear-7                  [-1, 256]         262,400\n",
      "              ReLU-8                  [-1, 256]               0\n",
      "            Conv2d-9         [-1, 16, 126, 171]             160\n",
      "             ReLU-10         [-1, 16, 126, 171]               0\n",
      "           Conv2d-11          [-1, 4, 124, 169]             580\n",
      "             ReLU-12          [-1, 4, 124, 169]               0\n",
      "           Linear-13                 [-1, 1024]      85,836,800\n",
      "             ReLU-14                 [-1, 1024]               0\n",
      "           Linear-15                  [-1, 256]         262,400\n",
      "             ReLU-16                  [-1, 256]               0\n",
      "           Linear-17                    [-1, 1]             257\n",
      "          Sigmoid-18                    [-1, 1]               0\n",
      "================================================================\n",
      "Total params: 172,200,137\n",
      "Trainable params: 172,200,137\n",
      "Non-trainable params: 0\n",
      "----------------------------------------------------------------\n",
      "Input size (MB): 1870.56\n",
      "Forward/backward pass size (MB): 13.12\n",
      "Params size (MB): 656.89\n",
      "Estimated Total Size (MB): 2540.57\n",
      "----------------------------------------------------------------\n"
     ]
    },
    {
     "output_type": "execute_result",
     "data": {
      "text/plain": [
       "tensor([[0.4031]], device='cuda:0', grad_fn=<SigmoidBackward>)"
      ]
     },
     "metadata": {},
     "execution_count": 24
    }
   ],
   "metadata": {}
  },
  {
   "cell_type": "markdown",
   "source": [
    "# Training"
   ],
   "metadata": {}
  },
  {
   "cell_type": "code",
   "execution_count": null,
   "source": [
    "from torch.nn import Module\n",
    "import torch.nn as nn\n",
    "import torch.nn.functional as F\n",
    "from tqdm import tqdm\n",
    "\n",
    "# Training loop\n",
    "def train(model, optimizer, loss_fn, train_loader, val_loader, epochs=20, device=\"cpu\"):\n",
    "    best_val_loss = 10000.0\n",
    "\n",
    "    for epoch in range(epochs):\n",
    "        print(\"Epoch: \", epoch)\n",
    "        training_loss = 0.0\n",
    "        valid_loss = 0.0\n",
    "\n",
    "        model.train() # 学習モードにセット　DropoutLayerなどが有効に\n",
    "\n",
    "        for batch in tqdm(train_loader):\n",
    "            optimizer.zero_grad() # 一旦リセット\n",
    "\n",
    "            (input1, input2), labels = batch\n",
    "            input1 = input1.to(device)\n",
    "            input2 = input2.to(device)\n",
    "\n",
    "            labels = labels.unsqueeze(1)\n",
    "            labels = labels.to(device)\n",
    "\n",
    "            output = model(input1, input2)\n",
    "\n",
    "            # print(labels.shape, output.shape)\n",
    "            # print(labels, output)   \n",
    "            loss = loss_fn(output, labels)\n",
    "            loss.backward() # back propagation - gradientの計算\n",
    "\n",
    "            optimizer.step()\n",
    "            training_loss += loss.data.item()\n",
    "        training_loss /= len(train_loader) # average\n",
    "\n",
    "        model.eval()# 学習モードをオフ　DropoutLayerなどが無効に モデルのパラメータはアップデートされない\n",
    "        num_correct = 0\n",
    "        num_examples = 0\n",
    "        for batch in tqdm(val_loader):\n",
    "\n",
    "            (input1, input2), labels = batch\n",
    "            input1 = input1.to(device)\n",
    "            input2 = input2.to(device)\n",
    "\n",
    "            labels = labels.unsqueeze(1)\n",
    "            labels = labels.to(device)\n",
    "\n",
    "            output = model(input1, input2)\n",
    "\n",
    "            loss = loss_fn(output, labels)\n",
    "            valid_loss += loss.data.item()\n",
    "\n",
    "            correct = torch.eq(output > 0.5, labels).view(-1)\n",
    "            num_correct += torch.sum(correct).item()\n",
    "            num_examples += correct.shape[0]\n",
    "        valid_loss /= len(val_loader)\n",
    "\n",
    "        accuracy = num_correct/num_examples\n",
    "        print('Epoch: {}, Training Loss: {:.2f}, Validation Loss: {:.2f}, Accuracy = {:.2f}'\n",
    "            .format(epoch, training_loss, valid_loss, accuracy))\n",
    "        if valid_loss < best_val_loss:\n",
    "            best_val_loss = valid_loss\n",
    "            torch.save(net.state_dict(), \"./tmp/model_epoch_%d_val_%.4f_acc_%.4f.pt\" % (epoch, valid_loss, accuracy))"
   ],
   "outputs": [],
   "metadata": {}
  },
  {
   "cell_type": "code",
   "execution_count": null,
   "source": [
    "net.train()\n",
    "\n",
    "optimizer = torch.optim.Adam(net.parameters(),lr = 0.0001)\n",
    "optimizer.zero_grad()\n",
    "\n",
    "train(net, optimizer, loss_fn, trainLoader, valLoader, epochs=100, device=device)\n"
   ],
   "outputs": [
    {
     "output_type": "stream",
     "name": "stdout",
     "text": [
      "Epoch:  0\n"
     ]
    },
    {
     "output_type": "stream",
     "name": "stderr",
     "text": [
      "100%|██████████| 1237/1237 [02:54<00:00,  7.08it/s]\n",
      "100%|██████████| 108/108 [00:15<00:00,  7.14it/s]\n"
     ]
    },
    {
     "output_type": "stream",
     "name": "stdout",
     "text": [
      "Epoch: 0, Training Loss: 0.69, Validation Loss: 0.69, Accuracy = 0.50\n",
      "Epoch:  1\n"
     ]
    },
    {
     "output_type": "stream",
     "name": "stderr",
     "text": [
      "100%|██████████| 1237/1237 [03:09<00:00,  6.54it/s]\n",
      "100%|██████████| 108/108 [00:15<00:00,  6.98it/s]\n"
     ]
    },
    {
     "output_type": "stream",
     "name": "stdout",
     "text": [
      "Epoch: 1, Training Loss: 0.69, Validation Loss: 0.69, Accuracy = 0.50\n",
      "Epoch:  2\n"
     ]
    },
    {
     "output_type": "stream",
     "name": "stderr",
     "text": [
      " 20%|█▉        | 245/1237 [00:35<02:23,  6.92it/s]\n"
     ]
    },
    {
     "output_type": "error",
     "ename": "KeyboardInterrupt",
     "evalue": "",
     "traceback": [
      "\u001b[0;31m---------------------------------------------------------------------------\u001b[0m",
      "\u001b[0;31mKeyboardInterrupt\u001b[0m                         Traceback (most recent call last)",
      "\u001b[0;32m<ipython-input-17-eaa06ef9c183>\u001b[0m in \u001b[0;36m<module>\u001b[0;34m\u001b[0m\n\u001b[1;32m      4\u001b[0m \u001b[0moptimizer\u001b[0m\u001b[0;34m.\u001b[0m\u001b[0mzero_grad\u001b[0m\u001b[0;34m(\u001b[0m\u001b[0;34m)\u001b[0m\u001b[0;34m\u001b[0m\u001b[0;34m\u001b[0m\u001b[0m\n\u001b[1;32m      5\u001b[0m \u001b[0;34m\u001b[0m\u001b[0m\n\u001b[0;32m----> 6\u001b[0;31m \u001b[0mtrain\u001b[0m\u001b[0;34m(\u001b[0m\u001b[0mnet\u001b[0m\u001b[0;34m,\u001b[0m \u001b[0moptimizer\u001b[0m\u001b[0;34m,\u001b[0m \u001b[0mloss_fn\u001b[0m\u001b[0;34m,\u001b[0m \u001b[0mtrainLoader\u001b[0m\u001b[0;34m,\u001b[0m \u001b[0mvalLoader\u001b[0m\u001b[0;34m,\u001b[0m \u001b[0mepochs\u001b[0m\u001b[0;34m=\u001b[0m\u001b[0;36m100\u001b[0m\u001b[0;34m,\u001b[0m \u001b[0mdevice\u001b[0m\u001b[0;34m=\u001b[0m\u001b[0mdevice\u001b[0m\u001b[0;34m)\u001b[0m\u001b[0;34m\u001b[0m\u001b[0;34m\u001b[0m\u001b[0m\n\u001b[0m",
      "\u001b[0;32m<ipython-input-16-263de7057682>\u001b[0m in \u001b[0;36mtrain\u001b[0;34m(model, optimizer, loss_fn, train_loader, val_loader, epochs, device)\u001b[0m\n\u001b[1;32m     15\u001b[0m         \u001b[0mmodel\u001b[0m\u001b[0;34m.\u001b[0m\u001b[0mtrain\u001b[0m\u001b[0;34m(\u001b[0m\u001b[0;34m)\u001b[0m \u001b[0;31m# 学習モードにセット　DropoutLayerなどが有効に\u001b[0m\u001b[0;34m\u001b[0m\u001b[0;34m\u001b[0m\u001b[0m\n\u001b[1;32m     16\u001b[0m \u001b[0;34m\u001b[0m\u001b[0m\n\u001b[0;32m---> 17\u001b[0;31m         \u001b[0;32mfor\u001b[0m \u001b[0mbatch\u001b[0m \u001b[0;32min\u001b[0m \u001b[0mtqdm\u001b[0m\u001b[0;34m(\u001b[0m\u001b[0mtrain_loader\u001b[0m\u001b[0;34m)\u001b[0m\u001b[0;34m:\u001b[0m\u001b[0;34m\u001b[0m\u001b[0;34m\u001b[0m\u001b[0m\n\u001b[0m\u001b[1;32m     18\u001b[0m             \u001b[0moptimizer\u001b[0m\u001b[0;34m.\u001b[0m\u001b[0mzero_grad\u001b[0m\u001b[0;34m(\u001b[0m\u001b[0;34m)\u001b[0m \u001b[0;31m# 一旦リセット\u001b[0m\u001b[0;34m\u001b[0m\u001b[0;34m\u001b[0m\u001b[0m\n\u001b[1;32m     19\u001b[0m \u001b[0;34m\u001b[0m\u001b[0m\n",
      "\u001b[0;32m~/anaconda3/envs/loopcomb/lib/python3.7/site-packages/tqdm/std.py\u001b[0m in \u001b[0;36m__iter__\u001b[0;34m(self)\u001b[0m\n\u001b[1;32m   1183\u001b[0m \u001b[0;34m\u001b[0m\u001b[0m\n\u001b[1;32m   1184\u001b[0m         \u001b[0;32mtry\u001b[0m\u001b[0;34m:\u001b[0m\u001b[0;34m\u001b[0m\u001b[0;34m\u001b[0m\u001b[0m\n\u001b[0;32m-> 1185\u001b[0;31m             \u001b[0;32mfor\u001b[0m \u001b[0mobj\u001b[0m \u001b[0;32min\u001b[0m \u001b[0miterable\u001b[0m\u001b[0;34m:\u001b[0m\u001b[0;34m\u001b[0m\u001b[0;34m\u001b[0m\u001b[0m\n\u001b[0m\u001b[1;32m   1186\u001b[0m                 \u001b[0;32myield\u001b[0m \u001b[0mobj\u001b[0m\u001b[0;34m\u001b[0m\u001b[0;34m\u001b[0m\u001b[0m\n\u001b[1;32m   1187\u001b[0m                 \u001b[0;31m# Update and possibly print the progressbar.\u001b[0m\u001b[0;34m\u001b[0m\u001b[0;34m\u001b[0m\u001b[0;34m\u001b[0m\u001b[0m\n",
      "\u001b[0;32m~/anaconda3/envs/loopcomb/lib/python3.7/site-packages/torch/utils/data/dataloader.py\u001b[0m in \u001b[0;36m__next__\u001b[0;34m(self)\u001b[0m\n\u001b[1;32m    519\u001b[0m             \u001b[0;32mif\u001b[0m \u001b[0mself\u001b[0m\u001b[0;34m.\u001b[0m\u001b[0m_sampler_iter\u001b[0m \u001b[0;32mis\u001b[0m \u001b[0;32mNone\u001b[0m\u001b[0;34m:\u001b[0m\u001b[0;34m\u001b[0m\u001b[0;34m\u001b[0m\u001b[0m\n\u001b[1;32m    520\u001b[0m                 \u001b[0mself\u001b[0m\u001b[0;34m.\u001b[0m\u001b[0m_reset\u001b[0m\u001b[0;34m(\u001b[0m\u001b[0;34m)\u001b[0m\u001b[0;34m\u001b[0m\u001b[0;34m\u001b[0m\u001b[0m\n\u001b[0;32m--> 521\u001b[0;31m             \u001b[0mdata\u001b[0m \u001b[0;34m=\u001b[0m \u001b[0mself\u001b[0m\u001b[0;34m.\u001b[0m\u001b[0m_next_data\u001b[0m\u001b[0;34m(\u001b[0m\u001b[0;34m)\u001b[0m\u001b[0;34m\u001b[0m\u001b[0;34m\u001b[0m\u001b[0m\n\u001b[0m\u001b[1;32m    522\u001b[0m             \u001b[0mself\u001b[0m\u001b[0;34m.\u001b[0m\u001b[0m_num_yielded\u001b[0m \u001b[0;34m+=\u001b[0m \u001b[0;36m1\u001b[0m\u001b[0;34m\u001b[0m\u001b[0;34m\u001b[0m\u001b[0m\n\u001b[1;32m    523\u001b[0m             \u001b[0;32mif\u001b[0m \u001b[0mself\u001b[0m\u001b[0;34m.\u001b[0m\u001b[0m_dataset_kind\u001b[0m \u001b[0;34m==\u001b[0m \u001b[0m_DatasetKind\u001b[0m\u001b[0;34m.\u001b[0m\u001b[0mIterable\u001b[0m \u001b[0;32mand\u001b[0m\u001b[0;31m \u001b[0m\u001b[0;31m\\\u001b[0m\u001b[0;34m\u001b[0m\u001b[0;34m\u001b[0m\u001b[0m\n",
      "\u001b[0;32m~/anaconda3/envs/loopcomb/lib/python3.7/site-packages/torch/utils/data/dataloader.py\u001b[0m in \u001b[0;36m_next_data\u001b[0;34m(self)\u001b[0m\n\u001b[1;32m   1184\u001b[0m \u001b[0;34m\u001b[0m\u001b[0m\n\u001b[1;32m   1185\u001b[0m             \u001b[0;32massert\u001b[0m \u001b[0;32mnot\u001b[0m \u001b[0mself\u001b[0m\u001b[0;34m.\u001b[0m\u001b[0m_shutdown\u001b[0m \u001b[0;32mand\u001b[0m \u001b[0mself\u001b[0m\u001b[0;34m.\u001b[0m\u001b[0m_tasks_outstanding\u001b[0m \u001b[0;34m>\u001b[0m \u001b[0;36m0\u001b[0m\u001b[0;34m\u001b[0m\u001b[0;34m\u001b[0m\u001b[0m\n\u001b[0;32m-> 1186\u001b[0;31m             \u001b[0midx\u001b[0m\u001b[0;34m,\u001b[0m \u001b[0mdata\u001b[0m \u001b[0;34m=\u001b[0m \u001b[0mself\u001b[0m\u001b[0;34m.\u001b[0m\u001b[0m_get_data\u001b[0m\u001b[0;34m(\u001b[0m\u001b[0;34m)\u001b[0m\u001b[0;34m\u001b[0m\u001b[0;34m\u001b[0m\u001b[0m\n\u001b[0m\u001b[1;32m   1187\u001b[0m             \u001b[0mself\u001b[0m\u001b[0;34m.\u001b[0m\u001b[0m_tasks_outstanding\u001b[0m \u001b[0;34m-=\u001b[0m \u001b[0;36m1\u001b[0m\u001b[0;34m\u001b[0m\u001b[0;34m\u001b[0m\u001b[0m\n\u001b[1;32m   1188\u001b[0m             \u001b[0;32mif\u001b[0m \u001b[0mself\u001b[0m\u001b[0;34m.\u001b[0m\u001b[0m_dataset_kind\u001b[0m \u001b[0;34m==\u001b[0m \u001b[0m_DatasetKind\u001b[0m\u001b[0;34m.\u001b[0m\u001b[0mIterable\u001b[0m\u001b[0;34m:\u001b[0m\u001b[0;34m\u001b[0m\u001b[0;34m\u001b[0m\u001b[0m\n",
      "\u001b[0;32m~/anaconda3/envs/loopcomb/lib/python3.7/site-packages/torch/utils/data/dataloader.py\u001b[0m in \u001b[0;36m_get_data\u001b[0;34m(self)\u001b[0m\n\u001b[1;32m   1150\u001b[0m         \u001b[0;32melse\u001b[0m\u001b[0;34m:\u001b[0m\u001b[0;34m\u001b[0m\u001b[0;34m\u001b[0m\u001b[0m\n\u001b[1;32m   1151\u001b[0m             \u001b[0;32mwhile\u001b[0m \u001b[0;32mTrue\u001b[0m\u001b[0;34m:\u001b[0m\u001b[0;34m\u001b[0m\u001b[0;34m\u001b[0m\u001b[0m\n\u001b[0;32m-> 1152\u001b[0;31m                 \u001b[0msuccess\u001b[0m\u001b[0;34m,\u001b[0m \u001b[0mdata\u001b[0m \u001b[0;34m=\u001b[0m \u001b[0mself\u001b[0m\u001b[0;34m.\u001b[0m\u001b[0m_try_get_data\u001b[0m\u001b[0;34m(\u001b[0m\u001b[0;34m)\u001b[0m\u001b[0;34m\u001b[0m\u001b[0;34m\u001b[0m\u001b[0m\n\u001b[0m\u001b[1;32m   1153\u001b[0m                 \u001b[0;32mif\u001b[0m \u001b[0msuccess\u001b[0m\u001b[0;34m:\u001b[0m\u001b[0;34m\u001b[0m\u001b[0;34m\u001b[0m\u001b[0m\n\u001b[1;32m   1154\u001b[0m                     \u001b[0;32mreturn\u001b[0m \u001b[0mdata\u001b[0m\u001b[0;34m\u001b[0m\u001b[0;34m\u001b[0m\u001b[0m\n",
      "\u001b[0;32m~/anaconda3/envs/loopcomb/lib/python3.7/site-packages/torch/utils/data/dataloader.py\u001b[0m in \u001b[0;36m_try_get_data\u001b[0;34m(self, timeout)\u001b[0m\n\u001b[1;32m    988\u001b[0m         \u001b[0;31m#   (bool: whether successfully get data, any: data if successful else None)\u001b[0m\u001b[0;34m\u001b[0m\u001b[0;34m\u001b[0m\u001b[0;34m\u001b[0m\u001b[0m\n\u001b[1;32m    989\u001b[0m         \u001b[0;32mtry\u001b[0m\u001b[0;34m:\u001b[0m\u001b[0;34m\u001b[0m\u001b[0;34m\u001b[0m\u001b[0m\n\u001b[0;32m--> 990\u001b[0;31m             \u001b[0mdata\u001b[0m \u001b[0;34m=\u001b[0m \u001b[0mself\u001b[0m\u001b[0;34m.\u001b[0m\u001b[0m_data_queue\u001b[0m\u001b[0;34m.\u001b[0m\u001b[0mget\u001b[0m\u001b[0;34m(\u001b[0m\u001b[0mtimeout\u001b[0m\u001b[0;34m=\u001b[0m\u001b[0mtimeout\u001b[0m\u001b[0;34m)\u001b[0m\u001b[0;34m\u001b[0m\u001b[0;34m\u001b[0m\u001b[0m\n\u001b[0m\u001b[1;32m    991\u001b[0m             \u001b[0;32mreturn\u001b[0m \u001b[0;34m(\u001b[0m\u001b[0;32mTrue\u001b[0m\u001b[0;34m,\u001b[0m \u001b[0mdata\u001b[0m\u001b[0;34m)\u001b[0m\u001b[0;34m\u001b[0m\u001b[0;34m\u001b[0m\u001b[0m\n\u001b[1;32m    992\u001b[0m         \u001b[0;32mexcept\u001b[0m \u001b[0mException\u001b[0m \u001b[0;32mas\u001b[0m \u001b[0me\u001b[0m\u001b[0;34m:\u001b[0m\u001b[0;34m\u001b[0m\u001b[0;34m\u001b[0m\u001b[0m\n",
      "\u001b[0;32m~/anaconda3/envs/loopcomb/lib/python3.7/multiprocessing/queues.py\u001b[0m in \u001b[0;36mget\u001b[0;34m(self, block, timeout)\u001b[0m\n\u001b[1;32m    102\u001b[0m                 \u001b[0;32mif\u001b[0m \u001b[0mblock\u001b[0m\u001b[0;34m:\u001b[0m\u001b[0;34m\u001b[0m\u001b[0;34m\u001b[0m\u001b[0m\n\u001b[1;32m    103\u001b[0m                     \u001b[0mtimeout\u001b[0m \u001b[0;34m=\u001b[0m \u001b[0mdeadline\u001b[0m \u001b[0;34m-\u001b[0m \u001b[0mtime\u001b[0m\u001b[0;34m.\u001b[0m\u001b[0mmonotonic\u001b[0m\u001b[0;34m(\u001b[0m\u001b[0;34m)\u001b[0m\u001b[0;34m\u001b[0m\u001b[0;34m\u001b[0m\u001b[0m\n\u001b[0;32m--> 104\u001b[0;31m                     \u001b[0;32mif\u001b[0m \u001b[0;32mnot\u001b[0m \u001b[0mself\u001b[0m\u001b[0;34m.\u001b[0m\u001b[0m_poll\u001b[0m\u001b[0;34m(\u001b[0m\u001b[0mtimeout\u001b[0m\u001b[0;34m)\u001b[0m\u001b[0;34m:\u001b[0m\u001b[0;34m\u001b[0m\u001b[0;34m\u001b[0m\u001b[0m\n\u001b[0m\u001b[1;32m    105\u001b[0m                         \u001b[0;32mraise\u001b[0m \u001b[0mEmpty\u001b[0m\u001b[0;34m\u001b[0m\u001b[0;34m\u001b[0m\u001b[0m\n\u001b[1;32m    106\u001b[0m                 \u001b[0;32melif\u001b[0m \u001b[0;32mnot\u001b[0m \u001b[0mself\u001b[0m\u001b[0;34m.\u001b[0m\u001b[0m_poll\u001b[0m\u001b[0;34m(\u001b[0m\u001b[0;34m)\u001b[0m\u001b[0;34m:\u001b[0m\u001b[0;34m\u001b[0m\u001b[0;34m\u001b[0m\u001b[0m\n",
      "\u001b[0;32m~/anaconda3/envs/loopcomb/lib/python3.7/multiprocessing/connection.py\u001b[0m in \u001b[0;36mpoll\u001b[0;34m(self, timeout)\u001b[0m\n\u001b[1;32m    255\u001b[0m         \u001b[0mself\u001b[0m\u001b[0;34m.\u001b[0m\u001b[0m_check_closed\u001b[0m\u001b[0;34m(\u001b[0m\u001b[0;34m)\u001b[0m\u001b[0;34m\u001b[0m\u001b[0;34m\u001b[0m\u001b[0m\n\u001b[1;32m    256\u001b[0m         \u001b[0mself\u001b[0m\u001b[0;34m.\u001b[0m\u001b[0m_check_readable\u001b[0m\u001b[0;34m(\u001b[0m\u001b[0;34m)\u001b[0m\u001b[0;34m\u001b[0m\u001b[0;34m\u001b[0m\u001b[0m\n\u001b[0;32m--> 257\u001b[0;31m         \u001b[0;32mreturn\u001b[0m \u001b[0mself\u001b[0m\u001b[0;34m.\u001b[0m\u001b[0m_poll\u001b[0m\u001b[0;34m(\u001b[0m\u001b[0mtimeout\u001b[0m\u001b[0;34m)\u001b[0m\u001b[0;34m\u001b[0m\u001b[0;34m\u001b[0m\u001b[0m\n\u001b[0m\u001b[1;32m    258\u001b[0m \u001b[0;34m\u001b[0m\u001b[0m\n\u001b[1;32m    259\u001b[0m     \u001b[0;32mdef\u001b[0m \u001b[0m__enter__\u001b[0m\u001b[0;34m(\u001b[0m\u001b[0mself\u001b[0m\u001b[0;34m)\u001b[0m\u001b[0;34m:\u001b[0m\u001b[0;34m\u001b[0m\u001b[0;34m\u001b[0m\u001b[0m\n",
      "\u001b[0;32m~/anaconda3/envs/loopcomb/lib/python3.7/multiprocessing/connection.py\u001b[0m in \u001b[0;36m_poll\u001b[0;34m(self, timeout)\u001b[0m\n\u001b[1;32m    412\u001b[0m \u001b[0;34m\u001b[0m\u001b[0m\n\u001b[1;32m    413\u001b[0m     \u001b[0;32mdef\u001b[0m \u001b[0m_poll\u001b[0m\u001b[0;34m(\u001b[0m\u001b[0mself\u001b[0m\u001b[0;34m,\u001b[0m \u001b[0mtimeout\u001b[0m\u001b[0;34m)\u001b[0m\u001b[0;34m:\u001b[0m\u001b[0;34m\u001b[0m\u001b[0;34m\u001b[0m\u001b[0m\n\u001b[0;32m--> 414\u001b[0;31m         \u001b[0mr\u001b[0m \u001b[0;34m=\u001b[0m \u001b[0mwait\u001b[0m\u001b[0;34m(\u001b[0m\u001b[0;34m[\u001b[0m\u001b[0mself\u001b[0m\u001b[0;34m]\u001b[0m\u001b[0;34m,\u001b[0m \u001b[0mtimeout\u001b[0m\u001b[0;34m)\u001b[0m\u001b[0;34m\u001b[0m\u001b[0;34m\u001b[0m\u001b[0m\n\u001b[0m\u001b[1;32m    415\u001b[0m         \u001b[0;32mreturn\u001b[0m \u001b[0mbool\u001b[0m\u001b[0;34m(\u001b[0m\u001b[0mr\u001b[0m\u001b[0;34m)\u001b[0m\u001b[0;34m\u001b[0m\u001b[0;34m\u001b[0m\u001b[0m\n\u001b[1;32m    416\u001b[0m \u001b[0;34m\u001b[0m\u001b[0m\n",
      "\u001b[0;32m~/anaconda3/envs/loopcomb/lib/python3.7/multiprocessing/connection.py\u001b[0m in \u001b[0;36mwait\u001b[0;34m(object_list, timeout)\u001b[0m\n\u001b[1;32m    919\u001b[0m \u001b[0;34m\u001b[0m\u001b[0m\n\u001b[1;32m    920\u001b[0m             \u001b[0;32mwhile\u001b[0m \u001b[0;32mTrue\u001b[0m\u001b[0;34m:\u001b[0m\u001b[0;34m\u001b[0m\u001b[0;34m\u001b[0m\u001b[0m\n\u001b[0;32m--> 921\u001b[0;31m                 \u001b[0mready\u001b[0m \u001b[0;34m=\u001b[0m \u001b[0mselector\u001b[0m\u001b[0;34m.\u001b[0m\u001b[0mselect\u001b[0m\u001b[0;34m(\u001b[0m\u001b[0mtimeout\u001b[0m\u001b[0;34m)\u001b[0m\u001b[0;34m\u001b[0m\u001b[0;34m\u001b[0m\u001b[0m\n\u001b[0m\u001b[1;32m    922\u001b[0m                 \u001b[0;32mif\u001b[0m \u001b[0mready\u001b[0m\u001b[0;34m:\u001b[0m\u001b[0;34m\u001b[0m\u001b[0;34m\u001b[0m\u001b[0m\n\u001b[1;32m    923\u001b[0m                     \u001b[0;32mreturn\u001b[0m \u001b[0;34m[\u001b[0m\u001b[0mkey\u001b[0m\u001b[0;34m.\u001b[0m\u001b[0mfileobj\u001b[0m \u001b[0;32mfor\u001b[0m \u001b[0;34m(\u001b[0m\u001b[0mkey\u001b[0m\u001b[0;34m,\u001b[0m \u001b[0mevents\u001b[0m\u001b[0;34m)\u001b[0m \u001b[0;32min\u001b[0m \u001b[0mready\u001b[0m\u001b[0;34m]\u001b[0m\u001b[0;34m\u001b[0m\u001b[0;34m\u001b[0m\u001b[0m\n",
      "\u001b[0;32m~/anaconda3/envs/loopcomb/lib/python3.7/selectors.py\u001b[0m in \u001b[0;36mselect\u001b[0;34m(self, timeout)\u001b[0m\n\u001b[1;32m    413\u001b[0m         \u001b[0mready\u001b[0m \u001b[0;34m=\u001b[0m \u001b[0;34m[\u001b[0m\u001b[0;34m]\u001b[0m\u001b[0;34m\u001b[0m\u001b[0;34m\u001b[0m\u001b[0m\n\u001b[1;32m    414\u001b[0m         \u001b[0;32mtry\u001b[0m\u001b[0;34m:\u001b[0m\u001b[0;34m\u001b[0m\u001b[0;34m\u001b[0m\u001b[0m\n\u001b[0;32m--> 415\u001b[0;31m             \u001b[0mfd_event_list\u001b[0m \u001b[0;34m=\u001b[0m \u001b[0mself\u001b[0m\u001b[0;34m.\u001b[0m\u001b[0m_selector\u001b[0m\u001b[0;34m.\u001b[0m\u001b[0mpoll\u001b[0m\u001b[0;34m(\u001b[0m\u001b[0mtimeout\u001b[0m\u001b[0;34m)\u001b[0m\u001b[0;34m\u001b[0m\u001b[0;34m\u001b[0m\u001b[0m\n\u001b[0m\u001b[1;32m    416\u001b[0m         \u001b[0;32mexcept\u001b[0m \u001b[0mInterruptedError\u001b[0m\u001b[0;34m:\u001b[0m\u001b[0;34m\u001b[0m\u001b[0;34m\u001b[0m\u001b[0m\n\u001b[1;32m    417\u001b[0m             \u001b[0;32mreturn\u001b[0m \u001b[0mready\u001b[0m\u001b[0;34m\u001b[0m\u001b[0;34m\u001b[0m\u001b[0m\n",
      "\u001b[0;31mKeyboardInterrupt\u001b[0m: "
     ]
    }
   ],
   "metadata": {
    "tags": []
   }
  },
  {
   "cell_type": "code",
   "execution_count": null,
   "source": [
    "from torchsummary import summary\n",
    "\n",
    "(t1, t2), label = trainSet[0]\n",
    "\n",
    "print(t1.shape)\n",
    "\n",
    "summary(net.cuda(), [(1, 128, 173),(1, 128, 173)])\n",
    "\n",
    "#net.forward(t1, t2)\n",
    "#print(t1.mean(axis=0).shape)\n",
    "net.cuda().forward(t1.unsqueeze(0).cuda(), t2.unsqueeze(0).cuda())"
   ],
   "outputs": [
    {
     "output_type": "stream",
     "name": "stdout",
     "text": [
      "torch.Size([1, 128, 173])\n",
      "----------------------------------------------------------------\n",
      "        Layer (type)               Output Shape         Param #\n",
      "================================================================\n",
      "            Conv2d-1         [-1, 64, 126, 171]             640\n",
      "              ReLU-2         [-1, 64, 126, 171]               0\n",
      "            Conv2d-3          [-1, 4, 124, 169]           2,308\n",
      "              ReLU-4          [-1, 4, 124, 169]               0\n",
      "            Linear-5                 [-1, 1024]      85,836,800\n",
      "           Sigmoid-6                 [-1, 1024]               0\n",
      "            Linear-7                  [-1, 512]         524,800\n",
      "           Sigmoid-8                  [-1, 512]               0\n",
      "            Linear-9                  [-1, 256]         131,328\n",
      "          Sigmoid-10                  [-1, 256]               0\n",
      "           Conv2d-11         [-1, 64, 126, 171]             640\n",
      "             ReLU-12         [-1, 64, 126, 171]               0\n",
      "           Conv2d-13          [-1, 4, 124, 169]           2,308\n",
      "             ReLU-14          [-1, 4, 124, 169]               0\n",
      "           Linear-15                 [-1, 1024]      85,836,800\n",
      "          Sigmoid-16                 [-1, 1024]               0\n",
      "           Linear-17                  [-1, 512]         524,800\n",
      "          Sigmoid-18                  [-1, 512]               0\n",
      "           Linear-19                  [-1, 256]         131,328\n",
      "          Sigmoid-20                  [-1, 256]               0\n",
      "           Linear-21                    [-1, 1]             257\n",
      "================================================================\n",
      "Total params: 172,992,009\n",
      "Trainable params: 172,992,009\n",
      "Non-trainable params: 0\n",
      "----------------------------------------------------------------\n",
      "Input size (MB): 1870.56\n",
      "Forward/backward pass size (MB): 44.69\n",
      "Params size (MB): 659.91\n",
      "Estimated Total Size (MB): 2575.17\n",
      "----------------------------------------------------------------\n"
     ]
    },
    {
     "output_type": "execute_result",
     "data": {
      "text/plain": [
       "tensor([[-0.0040]], device='cuda:0', grad_fn=<AddmmBackward>)"
      ]
     },
     "metadata": {},
     "execution_count": 68
    }
   ],
   "metadata": {}
  },
  {
   "cell_type": "code",
   "execution_count": null,
   "source": [
    "torch.cuda.empty_cache()"
   ],
   "outputs": [],
   "metadata": {}
=======
      "positives # 7169\n",
      "negatives # 7167\n",
      "all samples # 14336\n"
     ]
    }
   ],
   "source": [
    "dataset_path = './dataset/youtube-5m-loops-valid'\n",
    "dataset = LoopComb(dataset_path)"
   ]
  },
  {
   "cell_type": "code",
   "execution_count": 80,
   "metadata": {},
   "outputs": [
    {
     "output_type": "execute_result",
     "data": {
      "text/plain": [
       "((tensor([[[2.1586e+00, 2.7074e-01, 1.7595e+00,  ..., 2.8635e-04,\n",
       "            7.6017e-02, 1.8681e-01],\n",
       "           [2.3474e+00, 3.6333e+00, 2.9481e+01,  ..., 4.1482e-02,\n",
       "            3.5880e-02, 2.1071e-01],\n",
       "           [4.8347e+00, 1.4895e+01, 1.0551e+02,  ..., 1.0192e-02,\n",
       "            1.5693e-02, 7.0059e-02],\n",
       "           ...,\n",
       "           [8.8535e-10, 1.2337e-09, 3.0354e-08,  ..., 2.9494e-08,\n",
       "            1.1952e-08, 1.1288e-08],\n",
       "           [9.3206e-09, 1.7663e-09, 8.0608e-09,  ..., 7.3874e-08,\n",
       "            5.3166e-09, 3.5547e-11],\n",
       "           [2.7417e-08, 9.7663e-09, 3.6673e-09,  ..., 1.0210e-07,\n",
       "            4.4345e-08, 2.0200e-08]],\n",
       "  \n",
       "          [[2.1080e+00, 2.6136e-01, 1.7178e+00,  ..., 3.1621e-04,\n",
       "            7.7411e-02, 1.8923e-01],\n",
       "           [2.3188e+00, 3.6125e+00, 2.9530e+01,  ..., 4.2025e-02,\n",
       "            3.6707e-02, 2.1256e-01],\n",
       "           [4.8907e+00, 1.5020e+01, 1.0565e+02,  ..., 1.0280e-02,\n",
       "            1.5373e-02, 7.0507e-02],\n",
       "           ...,\n",
       "           [2.9341e-09, 1.2493e-09, 4.3855e-10,  ..., 1.9914e-09,\n",
       "            1.6804e-09, 1.3867e-08],\n",
       "           [2.3778e-10, 7.2486e-10, 8.3699e-09,  ..., 6.3809e-09,\n",
       "            6.1741e-10, 7.7119e-08],\n",
       "           [7.8146e-10, 1.5429e-09, 2.7556e-08,  ..., 4.5311e-10,\n",
       "            6.7458e-10, 1.1269e-07]]]),\n",
       "  tensor([[[1.2243e+00, 1.2921e+00, 1.4499e-01,  ..., 5.6551e-03,\n",
       "            2.0936e+01, 2.7348e-01],\n",
       "           [3.8231e-01, 3.9643e+00, 4.8211e+00,  ..., 3.2561e+00,\n",
       "            8.4902e+00, 1.6013e+00],\n",
       "           [6.7086e+00, 1.8236e+00, 6.4920e+00,  ..., 5.1410e-01,\n",
       "            5.6089e-01, 3.3465e+00],\n",
       "           ...,\n",
       "           [4.7087e-14, 3.6019e-09, 1.4481e-08,  ..., 5.7112e-09,\n",
       "            5.7698e-09, 1.2490e-08],\n",
       "           [2.7370e-12, 3.7139e-08, 1.1592e-08,  ..., 5.5618e-12,\n",
       "            8.9522e-09, 9.8306e-09],\n",
       "           [5.0227e-10, 7.6951e-08, 1.8631e-08,  ..., 8.3499e-09,\n",
       "            2.8897e-08, 2.9878e-12]],\n",
       "  \n",
       "          [[1.1762e+00, 1.2651e+00, 1.5253e-01,  ..., 5.2876e-03,\n",
       "            2.0874e+01, 2.5650e-01],\n",
       "           [4.1066e-01, 3.9230e+00, 4.8004e+00,  ..., 3.2676e+00,\n",
       "            8.4659e+00, 1.6301e+00],\n",
       "           [6.8196e+00, 1.8344e+00, 6.5324e+00,  ..., 5.1818e-01,\n",
       "            5.6132e-01, 3.3599e+00],\n",
       "           ...,\n",
       "           [1.9682e-08, 9.5194e-09, 8.3514e-09,  ..., 2.1206e-09,\n",
       "            7.1276e-09, 9.1553e-11],\n",
       "           [9.6984e-10, 1.9972e-09, 1.7622e-08,  ..., 7.4247e-09,\n",
       "            1.8318e-09, 1.3695e-09],\n",
       "           [1.0584e-08, 2.8073e-08, 3.7100e-08,  ..., 4.9374e-09,\n",
       "            6.6486e-09, 1.4575e-09]]])),\n",
       " 1)"
      ]
     },
     "metadata": {},
     "execution_count": 80
    }
   ],
   "source": [
    "dataset[0]"
   ]
>>>>>>> origin/master
  },
  {
   "cell_type": "code",
   "execution_count": null,
<<<<<<< HEAD
   "source": [],
   "outputs": [],
   "metadata": {}
  }
 ],
 "metadata": {
  "kernelspec": {
   "name": "python3",
   "display_name": "Python 3.7.10 64-bit ('loopcomb': conda)"
  },
  "language_info": {
   "codemirror_mode": {
    "name": "ipython",
    "version": 3
   },
   "file_extension": ".py",
   "mimetype": "text/x-python",
   "name": "python",
   "nbconvert_exporter": "python",
   "pygments_lexer": "ipython3",
   "version": "3.7.10"
  },
  "orig_nbformat": 2,
  "interpreter": {
   "hash": "0b5ceadf8b5e7e6d56519e0e5d815b6366e218e2ef3992b7acaa23d0ea28f265"
  }
 },
 "nbformat": 4,
 "nbformat_minor": 2
=======
   "metadata": {},
   "outputs": [],
   "source": []
  }
 ]
>>>>>>> origin/master
}